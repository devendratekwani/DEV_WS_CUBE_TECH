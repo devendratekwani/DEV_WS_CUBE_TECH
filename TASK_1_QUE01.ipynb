{
 "cells": [
  {
   "cell_type": "code",
   "execution_count": 2,
   "metadata": {},
   "outputs": [
    {
     "name": "stdout",
     "output_type": "stream",
     "text": [
      "You can find the Area of Trapezuim with Devendra \n",
      " Area of Trapezuim is :  16.5\n",
      "Thank You !!\n"
     ]
    }
   ],
   "source": [
    "print('\\n You can find the Area of Trapezuim with Devendra \\n')\n",
    "\n",
    "l = int(input(\"Enter length of Trapezuim : \"))\n",
    "w = int(input(\"Enter width of Trapezuim : \"))\n",
    "h = int(input(\"Enter height of Trapezuim : \\n\"))\n",
    "\n",
    "Area = (1/2)*h*(l+w)\n",
    "\n",
    "print(\" Area of Trapezuim is : \\n\", Area)\n",
    "\n",
    "print(\"Thank You !!\")\n",
    "\n",
    "\n"
   ]
  }
 ],
 "metadata": {
  "kernelspec": {
   "display_name": "Python 3",
   "language": "python",
   "name": "python3"
  },
  "language_info": {
   "codemirror_mode": {
    "name": "ipython",
    "version": 3
   },
   "file_extension": ".py",
   "mimetype": "text/x-python",
   "name": "python",
   "nbconvert_exporter": "python",
   "pygments_lexer": "ipython3",
   "version": "3.11.3"
  },
  "orig_nbformat": 4
 },
 "nbformat": 4,
 "nbformat_minor": 2
}
